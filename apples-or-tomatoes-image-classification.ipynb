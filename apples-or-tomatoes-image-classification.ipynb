{
 "cells": [
  {
   "cell_type": "markdown",
   "id": "d12de4f2",
   "metadata": {
    "papermill": {
     "duration": 0.008617,
     "end_time": "2025-02-18T15:05:28.688243",
     "exception": false,
     "start_time": "2025-02-18T15:05:28.679626",
     "status": "completed"
    },
    "tags": []
   },
   "source": [
    "### Library importation"
   ]
  },
  {
   "cell_type": "code",
   "execution_count": 1,
   "id": "b62184c4",
   "metadata": {
    "_cell_guid": "b1076dfc-b9ad-4769-8c92-a6c4dae69d19",
    "_uuid": "8f2839f25d086af736a60e9eeb907d3b93b6e0e5",
    "execution": {
     "iopub.execute_input": "2025-02-18T15:05:28.704747Z",
     "iopub.status.busy": "2025-02-18T15:05:28.704492Z",
     "iopub.status.idle": "2025-02-18T15:05:29.409083Z",
     "shell.execute_reply": "2025-02-18T15:05:29.408405Z"
    },
    "papermill": {
     "duration": 0.714504,
     "end_time": "2025-02-18T15:05:29.410689",
     "exception": false,
     "start_time": "2025-02-18T15:05:28.696185",
     "status": "completed"
    },
    "tags": []
   },
   "outputs": [],
   "source": [
    "# This Python 3 environment comes with many helpful analytics libraries installed\n",
    "# It is defined by the kaggle/python Docker image: https://github.com/kaggle/docker-python\n",
    "# For example, here's several helpful packages to load\n",
    "\n",
    "import numpy as np # linear algebra\n",
    "import pandas as pd # data processing, CSV file I/O (e.g. pd.read_csv)\n",
    "\n",
    "# Input data files are available in the read-only \"../input/\" directory\n",
    "# For example, running this (by clicking run or pressing Shift+Enter) will list all files under the input directory\n",
    "\n",
    "import os\n",
    "# You can write up to 20GB to the current directory (/kaggle/working/) that gets preserved as output when you create a version using \"Save & Run All\" \n",
    "# You can also write temporary files to /kaggle/temp/, but they won't be saved outside of the current session"
   ]
  },
  {
   "cell_type": "code",
   "execution_count": 2,
   "id": "a6cce1f5",
   "metadata": {
    "execution": {
     "iopub.execute_input": "2025-02-18T15:05:29.427621Z",
     "iopub.status.busy": "2025-02-18T15:05:29.427278Z",
     "iopub.status.idle": "2025-02-18T15:05:41.795753Z",
     "shell.execute_reply": "2025-02-18T15:05:41.795028Z"
    },
    "papermill": {
     "duration": 12.378367,
     "end_time": "2025-02-18T15:05:41.797271",
     "exception": false,
     "start_time": "2025-02-18T15:05:29.418904",
     "status": "completed"
    },
    "tags": []
   },
   "outputs": [],
   "source": [
    "from sklearn.model_selection import train_test_split\n",
    "import matplotlib.pyplot as plt\n",
    "\n",
    "import tensorflow as tf\n",
    "from tensorflow import keras\n",
    "from tensorflow.keras.preprocessing.image import load_img\n",
    "from tensorflow.keras.preprocessing.image import ImageDataGenerator"
   ]
  },
  {
   "cell_type": "markdown",
   "id": "0e56f311",
   "metadata": {
    "papermill": {
     "duration": 0.007602,
     "end_time": "2025-02-18T15:05:41.813120",
     "exception": false,
     "start_time": "2025-02-18T15:05:41.805518",
     "status": "completed"
    },
    "tags": []
   },
   "source": [
    "### Dataset information"
   ]
  },
  {
   "cell_type": "markdown",
   "id": "481c3992",
   "metadata": {
    "papermill": {
     "duration": 0.007939,
     "end_time": "2025-02-18T15:05:41.828744",
     "exception": false,
     "start_time": "2025-02-18T15:05:41.820805",
     "status": "completed"
    },
    "tags": []
   },
   "source": [
    "As explained from dataset card, images of red, yellow and green apples/tomatoes have been split into a train and test set. Image sizes usually range between 100x100 pixels and 300x300 pixels. Let's begin with image of 100x100 pixels."
   ]
  },
  {
   "cell_type": "markdown",
   "id": "a943c34c",
   "metadata": {
    "papermill": {
     "duration": 0.007461,
     "end_time": "2025-02-18T15:05:41.843807",
     "exception": false,
     "start_time": "2025-02-18T15:05:41.836346",
     "status": "completed"
    },
    "tags": []
   },
   "source": [
    "Load a single image from dataset."
   ]
  },
  {
   "cell_type": "code",
   "execution_count": 3,
   "id": "d936ecc3",
   "metadata": {
    "execution": {
     "iopub.execute_input": "2025-02-18T15:05:41.860195Z",
     "iopub.status.busy": "2025-02-18T15:05:41.859760Z",
     "iopub.status.idle": "2025-02-18T15:05:41.863086Z",
     "shell.execute_reply": "2025-02-18T15:05:41.862473Z"
    },
    "papermill": {
     "duration": 0.01279,
     "end_time": "2025-02-18T15:05:41.864211",
     "exception": false,
     "start_time": "2025-02-18T15:05:41.851421",
     "status": "completed"
    },
    "tags": []
   },
   "outputs": [],
   "source": [
    "image_size = 100\n",
    "image_shape = (100, 100)\n",
    "batch_size = 32"
   ]
  },
  {
   "cell_type": "code",
   "execution_count": 4,
   "id": "9b7d949f",
   "metadata": {
    "execution": {
     "iopub.execute_input": "2025-02-18T15:05:41.880710Z",
     "iopub.status.busy": "2025-02-18T15:05:41.880490Z",
     "iopub.status.idle": "2025-02-18T15:05:41.932965Z",
     "shell.execute_reply": "2025-02-18T15:05:41.932248Z"
    },
    "papermill": {
     "duration": 0.062197,
     "end_time": "2025-02-18T15:05:41.934225",
     "exception": false,
     "start_time": "2025-02-18T15:05:41.872028",
     "status": "completed"
    },
    "tags": []
   },
   "outputs": [
    {
     "data": {
      "image/jpeg": "[encoded data removed]",
      "image/png": "[encoded data removed]",
      "text/plain": [
       "<PIL.Image.Image image mode=RGB size=100x100>"
      ]
     },
     "execution_count": 4,
     "metadata": {},
     "output_type": "execute_result"
    }
   ],
   "source": [
    "full_image = \"/kaggle/input/apples-or-tomatoes-image-classification/train/apples/img_p1_113.jpeg\"\n",
    "load_img(full_image, target_size=(image_size, image_size))"
   ]
  },
  {
   "cell_type": "markdown",
   "id": "5fec3667",
   "metadata": {
    "papermill": {
     "duration": 0.007924,
     "end_time": "2025-02-18T15:05:41.950438",
     "exception": false,
     "start_time": "2025-02-18T15:05:41.942514",
     "status": "completed"
    },
    "tags": []
   },
   "source": [
    "### Data exploration"
   ]
  },
  {
   "cell_type": "markdown",
   "id": "0a5b0388",
   "metadata": {
    "execution": {
     "iopub.execute_input": "2025-02-18T09:23:48.126154Z",
     "iopub.status.busy": "2025-02-18T09:23:48.125840Z",
     "iopub.status.idle": "2025-02-18T09:23:48.131335Z",
     "shell.execute_reply": "2025-02-18T09:23:48.130252Z",
     "shell.execute_reply.started": "2025-02-18T09:23:48.126130Z"
    },
    "papermill": {
     "duration": 0.007801,
     "end_time": "2025-02-18T15:05:41.966223",
     "exception": false,
     "start_time": "2025-02-18T15:05:41.958422",
     "status": "completed"
    },
    "tags": []
   },
   "source": [
    "- check data distribution\n",
    "- check duplicated images"
   ]
  },
  {
   "cell_type": "code",
   "execution_count": 5,
   "id": "14eebfd7",
   "metadata": {
    "execution": {
     "iopub.execute_input": "2025-02-18T15:05:41.983632Z",
     "iopub.status.busy": "2025-02-18T15:05:41.983380Z",
     "iopub.status.idle": "2025-02-18T15:05:42.765350Z",
     "shell.execute_reply": "2025-02-18T15:05:42.764481Z"
    },
    "papermill": {
     "duration": 0.792785,
     "end_time": "2025-02-18T15:05:42.766968",
     "exception": false,
     "start_time": "2025-02-18T15:05:41.974183",
     "status": "completed"
    },
    "tags": []
   },
   "outputs": [],
   "source": [
    "train_dir = \"/kaggle/input/apples-or-tomatoes-image-classification/train\"\n",
    "apples_images = []\n",
    "tomatoes_images = []\n",
    "apples_dir = 'apples'\n",
    "import os\n",
    "for d in os.listdir(train_dir):\n",
    "    if os.path.isdir(os.path.join(train_dir, d)) and d == 'apples':\n",
    "        for f in os.listdir(os.path.join(train_dir, d)):\n",
    "            if os.path.isfile(os.path.join(os.path.join(train_dir, d), f)):\n",
    "                apples_images.append(f)\n",
    "    if os.path.isdir(os.path.join(train_dir, d)) and d == 'tomatoes':\n",
    "        for f in os.listdir(os.path.join(train_dir, d)):\n",
    "            if os.path.isfile(os.path.join(os.path.join(train_dir, d), f)):\n",
    "                tomatoes_images.append(f)"
   ]
  },
  {
   "cell_type": "code",
   "execution_count": 6,
   "id": "1dc5e590",
   "metadata": {
    "execution": {
     "iopub.execute_input": "2025-02-18T15:05:42.794572Z",
     "iopub.status.busy": "2025-02-18T15:05:42.794310Z",
     "iopub.status.idle": "2025-02-18T15:05:42.798951Z",
     "shell.execute_reply": "2025-02-18T15:05:42.798190Z"
    },
    "papermill": {
     "duration": 0.01587,
     "end_time": "2025-02-18T15:05:42.800145",
     "exception": false,
     "start_time": "2025-02-18T15:05:42.784275",
     "status": "completed"
    },
    "tags": []
   },
   "outputs": [
    {
     "data": {
      "text/plain": [
       "(164, 130)"
      ]
     },
     "execution_count": 6,
     "metadata": {},
     "output_type": "execute_result"
    }
   ],
   "source": [
    "len(apples_images), len(tomatoes_images)"
   ]
  },
  {
   "cell_type": "markdown",
   "id": "3e56fa45",
   "metadata": {
    "papermill": {
     "duration": 0.007943,
     "end_time": "2025-02-18T15:05:42.816383",
     "exception": false,
     "start_time": "2025-02-18T15:05:42.808440",
     "status": "completed"
    },
    "tags": []
   },
   "source": [
    "We observe that we have here an imbalanced class. We will see later how to handle imbalanced class."
   ]
  },
  {
   "cell_type": "code",
   "execution_count": 7,
   "id": "aa733fb9",
   "metadata": {
    "execution": {
     "iopub.execute_input": "2025-02-18T15:05:42.833320Z",
     "iopub.status.busy": "2025-02-18T15:05:42.833095Z",
     "iopub.status.idle": "2025-02-18T15:05:42.837350Z",
     "shell.execute_reply": "2025-02-18T15:05:42.836590Z"
    },
    "papermill": {
     "duration": 0.01421,
     "end_time": "2025-02-18T15:05:42.838641",
     "exception": false,
     "start_time": "2025-02-18T15:05:42.824431",
     "status": "completed"
    },
    "tags": []
   },
   "outputs": [
    {
     "data": {
      "text/plain": [
       "(164, 130)"
      ]
     },
     "execution_count": 7,
     "metadata": {},
     "output_type": "execute_result"
    }
   ],
   "source": [
    "len(set(apples_images)), len(set(tomatoes_images)) "
   ]
  },
  {
   "cell_type": "markdown",
   "id": "9737b6fb",
   "metadata": {
    "papermill": {
     "duration": 0.008144,
     "end_time": "2025-02-18T15:05:42.855206",
     "exception": false,
     "start_time": "2025-02-18T15:05:42.847062",
     "status": "completed"
    },
    "tags": []
   },
   "source": [
    "We observe that we have only unique image in the dataset."
   ]
  },
  {
   "cell_type": "markdown",
   "id": "efc744f5",
   "metadata": {
    "papermill": {
     "duration": 0.008069,
     "end_time": "2025-02-18T15:05:42.871586",
     "exception": false,
     "start_time": "2025-02-18T15:05:42.863517",
     "status": "completed"
    },
    "tags": []
   },
   "source": [
    "### Data preprocessing"
   ]
  },
  {
   "cell_type": "raw",
   "id": "1d1cc940",
   "metadata": {
    "execution": {
     "iopub.execute_input": "2025-02-18T12:55:48.161723Z",
     "iopub.status.busy": "2025-02-18T12:55:48.161421Z",
     "iopub.status.idle": "2025-02-18T12:55:48.168032Z",
     "shell.execute_reply": "2025-02-18T12:55:48.166630Z",
     "shell.execute_reply.started": "2025-02-18T12:55:48.161700Z"
    },
    "papermill": {
     "duration": 0.008378,
     "end_time": "2025-02-18T15:05:42.888428",
     "exception": false,
     "start_time": "2025-02-18T15:05:42.880050",
     "status": "completed"
    },
    "tags": []
   },
   "source": [
    "As we have only train and test dataset, we will create validation dataset. Also we will generate some images.\n",
    "We apply scaling to normalize image pixel into [0, 1] with rescale, apply zoom, apply rotation and horizontal_flip. "
   ]
  },
  {
   "cell_type": "code",
   "execution_count": 8,
   "id": "f0aa7965",
   "metadata": {
    "execution": {
     "iopub.execute_input": "2025-02-18T15:05:42.905670Z",
     "iopub.status.busy": "2025-02-18T15:05:42.905427Z",
     "iopub.status.idle": "2025-02-18T15:05:42.908487Z",
     "shell.execute_reply": "2025-02-18T15:05:42.907910Z"
    },
    "papermill": {
     "duration": 0.013051,
     "end_time": "2025-02-18T15:05:42.909786",
     "exception": false,
     "start_time": "2025-02-18T15:05:42.896735",
     "status": "completed"
    },
    "tags": []
   },
   "outputs": [],
   "source": [
    "datagen = ImageDataGenerator(\n",
    "    rescale=1/255.,\n",
    "    zoom_range=0.2,\n",
    "    rotation_range=30,\n",
    "    validation_split=0.2,\n",
    "    horizontal_flip=True,\n",
    "    fill_mode='nearest'\n",
    ")"
   ]
  },
  {
   "cell_type": "code",
   "execution_count": 9,
   "id": "731538ac",
   "metadata": {
    "execution": {
     "iopub.execute_input": "2025-02-18T15:05:42.926967Z",
     "iopub.status.busy": "2025-02-18T15:05:42.926771Z",
     "iopub.status.idle": "2025-02-18T15:05:42.929393Z",
     "shell.execute_reply": "2025-02-18T15:05:42.928843Z"
    },
    "papermill": {
     "duration": 0.012616,
     "end_time": "2025-02-18T15:05:42.930692",
     "exception": false,
     "start_time": "2025-02-18T15:05:42.918076",
     "status": "completed"
    },
    "tags": []
   },
   "outputs": [],
   "source": [
    "train_dataset_dir = \"/kaggle/input/apples-or-tomatoes-image-classification/train\"\n",
    "test_dataset_dir = \"/kaggle/input/apples-or-tomatoes-image-classification/test\""
   ]
  },
  {
   "cell_type": "code",
   "execution_count": 10,
   "id": "a3c4150b",
   "metadata": {
    "execution": {
     "iopub.execute_input": "2025-02-18T15:05:42.947814Z",
     "iopub.status.busy": "2025-02-18T15:05:42.947612Z",
     "iopub.status.idle": "2025-02-18T15:05:43.133856Z",
     "shell.execute_reply": "2025-02-18T15:05:43.133220Z"
    },
    "papermill": {
     "duration": 0.196196,
     "end_time": "2025-02-18T15:05:43.135116",
     "exception": false,
     "start_time": "2025-02-18T15:05:42.938920",
     "status": "completed"
    },
    "tags": []
   },
   "outputs": [
    {
     "name": "stdout",
     "output_type": "stream",
     "text": [
      "Found 236 images belonging to 2 classes.\n",
      "Found 58 images belonging to 2 classes.\n",
      "Found 97 images belonging to 2 classes.\n"
     ]
    }
   ],
   "source": [
    "train_ds = datagen.flow_from_directory(\n",
    "    train_dataset_dir,\n",
    "    target_size=(image_size, image_size),\n",
    "    batch_size=batch_size,\n",
    "    subset=\"training\",\n",
    "    seed=1\n",
    ")\n",
    "\n",
    "validation_ds = datagen.flow_from_directory(\n",
    "    train_dataset_dir,\n",
    "    target_size=(image_size, image_size),\n",
    "    batch_size=batch_size,\n",
    "    subset='validation',\n",
    "    seed=1,\n",
    ")\n",
    "\n",
    "# For test data\n",
    "test_ds = ImageDataGenerator(rescale=1/255.).flow_from_directory(\n",
    "    test_dataset_dir,\n",
    "    target_size=(image_size, image_size),\n",
    "    batch_size=batch_size,\n",
    "    shuffle=False  # Set shuffle to False for test data\n",
    ")"
   ]
  },
  {
   "cell_type": "markdown",
   "id": "e123a6fa",
   "metadata": {
    "papermill": {
     "duration": 0.008437,
     "end_time": "2025-02-18T15:05:43.152026",
     "exception": false,
     "start_time": "2025-02-18T15:05:43.143589",
     "status": "completed"
    },
    "tags": []
   },
   "source": [
    "### Building sequential neural network"
   ]
  },
  {
   "cell_type": "markdown",
   "id": "835d027b",
   "metadata": {
    "papermill": {
     "duration": 0.008162,
     "end_time": "2025-02-18T15:05:43.168479",
     "exception": false,
     "start_time": "2025-02-18T15:05:43.160317",
     "status": "completed"
    },
    "tags": []
   },
   "source": [
    "First let's start with a sequential neural network. We will use callbacks when training our model which hepl us to improve the training process.\n",
    "Callbacks have some functionnalies such as early stopping, learning rate tuning, best model dumping, ...\n",
    "Also we will Strategy that let's us performing distributed computational power in keras.  "
   ]
  },
  {
   "cell_type": "code",
   "execution_count": 11,
   "id": "812fa9c0",
   "metadata": {
    "execution": {
     "iopub.execute_input": "2025-02-18T15:05:43.185923Z",
     "iopub.status.busy": "2025-02-18T15:05:43.185718Z",
     "iopub.status.idle": "2025-02-18T15:05:43.188900Z",
     "shell.execute_reply": "2025-02-18T15:05:43.188345Z"
    },
    "papermill": {
     "duration": 0.013125,
     "end_time": "2025-02-18T15:05:43.189966",
     "exception": false,
     "start_time": "2025-02-18T15:05:43.176841",
     "status": "completed"
    },
    "tags": []
   },
   "outputs": [],
   "source": [
    "# Setup EarlyStopping callback to stop training if model's val_loss doesn't improve for 5 epochs\n",
    "early_stopping = tf.keras.callbacks.EarlyStopping(monitor=\"val_loss\",\n",
    "                                                  patience=10) #if val loss decrease for 5 epochs in a row, stop training\n",
    "\n",
    "# Creating learning rate reduce callback\n",
    "reduce_lr = tf.keras.callbacks.ReduceLROnPlateau(monitor=\"val_loss\",\n",
    "                                                 factor=0.2, #multiply the learning rate by 0.2 (reduce by 5x)\n",
    "                                                 patience=3,\n",
    "                                                 verbose=1,\n",
    "                                                 min_lr=1e-7)"
   ]
  },
  {
   "cell_type": "code",
   "execution_count": 12,
   "id": "b84ffcda",
   "metadata": {
    "execution": {
     "iopub.execute_input": "2025-02-18T15:05:43.207265Z",
     "iopub.status.busy": "2025-02-18T15:05:43.207067Z",
     "iopub.status.idle": "2025-02-18T15:05:44.174402Z",
     "shell.execute_reply": "2025-02-18T15:05:44.173618Z"
    },
    "papermill": {
     "duration": 0.977336,
     "end_time": "2025-02-18T15:05:44.175606",
     "exception": false,
     "start_time": "2025-02-18T15:05:43.198270",
     "status": "completed"
    },
    "tags": []
   },
   "outputs": [
    {
     "name": "stdout",
     "output_type": "stream",
     "text": [
      "Nombre de périphériques : 2\n"
     ]
    }
   ],
   "source": [
    "strategy = tf.distribute.MirroredStrategy()\n",
    "print(f\"Nombre de périphériques : {strategy.num_replicas_in_sync}\")\n"
   ]
  },
  {
   "cell_type": "code",
   "execution_count": 13,
   "id": "d10e6ed6",
   "metadata": {
    "execution": {
     "iopub.execute_input": "2025-02-18T15:05:44.193743Z",
     "iopub.status.busy": "2025-02-18T15:05:44.193474Z",
     "iopub.status.idle": "2025-02-18T15:05:44.199118Z",
     "shell.execute_reply": "2025-02-18T15:05:44.198545Z"
    },
    "papermill": {
     "duration": 0.01592,
     "end_time": "2025-02-18T15:05:44.200313",
     "exception": false,
     "start_time": "2025-02-18T15:05:44.184393",
     "status": "completed"
    },
    "tags": []
   },
   "outputs": [],
   "source": [
    "from tensorflow.keras.models import Sequential\n",
    "from tensorflow.keras.layers import Conv2D, MaxPooling2D, Flatten, Dense, Dropout, Input"
   ]
  },
  {
   "cell_type": "code",
   "execution_count": 14,
   "id": "5fb34de6",
   "metadata": {
    "execution": {
     "iopub.execute_input": "2025-02-18T15:05:44.217983Z",
     "iopub.status.busy": "2025-02-18T15:05:44.217780Z",
     "iopub.status.idle": "2025-02-18T15:05:45.615272Z",
     "shell.execute_reply": "2025-02-18T15:05:45.614607Z"
    },
    "papermill": {
     "duration": 1.407924,
     "end_time": "2025-02-18T15:05:45.616851",
     "exception": false,
     "start_time": "2025-02-18T15:05:44.208927",
     "status": "completed"
    },
    "tags": []
   },
   "outputs": [],
   "source": [
    "with strategy.scope():\n",
    "    model = Sequential([\n",
    "        Input(shape=(100, 100, 3)),  # Ajoute une couche d'entrée explicite\n",
    "        Conv2D(32, kernel_size = (3,3), activation='relu', padding = 'same'),\n",
    "        MaxPooling2D((2, 2)),\n",
    "        Conv2D(64, kernel_size = (3,3), activation='relu', padding = 'same'),\n",
    "        MaxPooling2D((2, 2)),\n",
    "        Dropout(.2),\n",
    "        Flatten(),\n",
    "        Dense(32, activation='relu'),\n",
    "        Dropout(.2),\n",
    "        Dense(32, activation='relu'),\n",
    "        Dense(2, activation = 'softmax')\n",
    "    ])\n",
    "\n",
    "    model.compile(optimizer='adam',\n",
    "                loss='categorical_crossentropy',\n",
    "                metrics=['accuracy'])"
   ]
  },
  {
   "cell_type": "markdown",
   "id": "a1e13a53",
   "metadata": {
    "papermill": {
     "duration": 0.008465,
     "end_time": "2025-02-18T15:05:45.634228",
     "exception": false,
     "start_time": "2025-02-18T15:05:45.625763",
     "status": "completed"
    },
    "tags": []
   },
   "source": [
    "Handle unbalacend class when training model"
   ]
  },
  {
   "cell_type": "code",
   "execution_count": 15,
   "id": "a88084a8",
   "metadata": {
    "execution": {
     "iopub.execute_input": "2025-02-18T15:05:45.651884Z",
     "iopub.status.busy": "2025-02-18T15:05:45.651641Z",
     "iopub.status.idle": "2025-02-18T15:05:45.661581Z",
     "shell.execute_reply": "2025-02-18T15:05:45.660872Z"
    },
    "papermill": {
     "duration": 0.020066,
     "end_time": "2025-02-18T15:05:45.662740",
     "exception": false,
     "start_time": "2025-02-18T15:05:45.642674",
     "status": "completed"
    },
    "tags": []
   },
   "outputs": [
    {
     "name": "stdout",
     "output_type": "stream",
     "text": [
      "Class Weights:  {0: 0.8939393939393939, 1: 1.1346153846153846}\n"
     ]
    }
   ],
   "source": [
    "from sklearn.utils import class_weight\n",
    "import numpy as np\n",
    "\n",
    "# Compute class weights\n",
    "class_weights = class_weight.compute_class_weight(\n",
    "    class_weight='balanced',\n",
    "    classes=np.unique(train_ds.classes),\n",
    "    y=train_ds.classes\n",
    ")\n",
    "class_weights_dict = dict(enumerate(class_weights))\n",
    "\n",
    "print(\"Class Weights: \", class_weights_dict)\n"
   ]
  },
  {
   "cell_type": "code",
   "execution_count": 16,
   "id": "55d2a334",
   "metadata": {
    "execution": {
     "iopub.execute_input": "2025-02-18T15:05:45.680311Z",
     "iopub.status.busy": "2025-02-18T15:05:45.680096Z",
     "iopub.status.idle": "2025-02-18T15:05:45.684041Z",
     "shell.execute_reply": "2025-02-18T15:05:45.683387Z"
    },
    "papermill": {
     "duration": 0.013961,
     "end_time": "2025-02-18T15:05:45.685158",
     "exception": false,
     "start_time": "2025-02-18T15:05:45.671197",
     "status": "completed"
    },
    "tags": []
   },
   "outputs": [
    {
     "data": {
      "text/plain": [
       "<keras.src.legacy.preprocessing.image.DirectoryIterator at 0x7c5ec7777310>"
      ]
     },
     "execution_count": 16,
     "metadata": {},
     "output_type": "execute_result"
    }
   ],
   "source": [
    "train_ds"
   ]
  },
  {
   "cell_type": "code",
   "execution_count": 17,
   "id": "1f86bb43",
   "metadata": {
    "execution": {
     "iopub.execute_input": "2025-02-18T15:05:45.703208Z",
     "iopub.status.busy": "2025-02-18T15:05:45.703008Z",
     "iopub.status.idle": "2025-02-18T15:06:53.422726Z",
     "shell.execute_reply": "2025-02-18T15:06:53.421774Z"
    },
    "papermill": {
     "duration": 67.730317,
     "end_time": "2025-02-18T15:06:53.424062",
     "exception": false,
     "start_time": "2025-02-18T15:05:45.693745",
     "status": "completed"
    },
    "tags": []
   },
   "outputs": [
    {
     "name": "stderr",
     "output_type": "stream",
     "text": [
      "/usr/local/lib/python3.10/dist-packages/keras/src/trainers/data_adapters/py_dataset_adapter.py:122: UserWarning: Your `PyDataset` class should call `super().__init__(**kwargs)` in its constructor. `**kwargs` can include `workers`, `use_multiprocessing`, `max_queue_size`. Do not pass these arguments to `fit()`, as they will be ignored.\n",
      "  self._warn_if_super_not_called()\n"
     ]
    },
    {
     "name": "stdout",
     "output_type": "stream",
     "text": [
      "Epoch 1/50\n",
      "\u001b[1m8/8\u001b[0m \u001b[32m━━━━━━━━━━━━━━━━━━━━\u001b[0m\u001b[37m\u001b[0m \u001b[1m8s\u001b[0m 251ms/step - accuracy: 0.5163 - loss: 0.8006 - val_accuracy: 0.5862 - val_loss: 0.6536 - learning_rate: 0.0010\n",
      "Epoch 2/50\n",
      "\u001b[1m8/8\u001b[0m \u001b[32m━━━━━━━━━━━━━━━━━━━━\u001b[0m\u001b[37m\u001b[0m \u001b[1m2s\u001b[0m 130ms/step - accuracy: 0.6751 - loss: 0.6289 - val_accuracy: 0.5862 - val_loss: 0.6735 - learning_rate: 0.0010\n",
      "Epoch 3/50\n",
      "\u001b[1m8/8\u001b[0m \u001b[32m━━━━━━━━━━━━━━━━━━━━\u001b[0m\u001b[37m\u001b[0m \u001b[1m2s\u001b[0m 136ms/step - accuracy: 0.6701 - loss: 0.6049 - val_accuracy: 0.5517 - val_loss: 0.7370 - learning_rate: 0.0010\n",
      "Epoch 4/50\n",
      "\u001b[1m8/8\u001b[0m \u001b[32m━━━━━━━━━━━━━━━━━━━━\u001b[0m\u001b[37m\u001b[0m \u001b[1m2s\u001b[0m 108ms/step - accuracy: 0.6741 - loss: 0.6028 - val_accuracy: 0.7241 - val_loss: 0.6335 - learning_rate: 0.0010\n",
      "Epoch 5/50\n",
      "\u001b[1m8/8\u001b[0m \u001b[32m━━━━━━━━━━━━━━━━━━━━\u001b[0m\u001b[37m\u001b[0m \u001b[1m2s\u001b[0m 112ms/step - accuracy: 0.6739 - loss: 0.6151 - val_accuracy: 0.6207 - val_loss: 0.6202 - learning_rate: 0.0010\n",
      "Epoch 6/50\n",
      "\u001b[1m8/8\u001b[0m \u001b[32m━━━━━━━━━━━━━━━━━━━━\u001b[0m\u001b[37m\u001b[0m \u001b[1m2s\u001b[0m 108ms/step - accuracy: 0.6604 - loss: 0.6172 - val_accuracy: 0.5517 - val_loss: 0.6779 - learning_rate: 0.0010\n",
      "Epoch 7/50\n",
      "\u001b[1m8/8\u001b[0m \u001b[32m━━━━━━━━━━━━━━━━━━━━\u001b[0m\u001b[37m\u001b[0m \u001b[1m2s\u001b[0m 109ms/step - accuracy: 0.6903 - loss: 0.5622 - val_accuracy: 0.4828 - val_loss: 0.7215 - learning_rate: 0.0010\n",
      "Epoch 8/50\n",
      "\u001b[1m8/8\u001b[0m \u001b[32m━━━━━━━━━━━━━━━━━━━━\u001b[0m\u001b[37m\u001b[0m \u001b[1m0s\u001b[0m 17ms/step - accuracy: 0.7339 - loss: 0.5728\n",
      "Epoch 8: ReduceLROnPlateau reducing learning rate to 0.00020000000949949026.\n",
      "\u001b[1m8/8\u001b[0m \u001b[32m━━━━━━━━━━━━━━━━━━━━\u001b[0m\u001b[37m\u001b[0m \u001b[1m2s\u001b[0m 108ms/step - accuracy: 0.7333 - loss: 0.5720 - val_accuracy: 0.5862 - val_loss: 0.6684 - learning_rate: 0.0010\n",
      "Epoch 9/50\n",
      "\u001b[1m8/8\u001b[0m \u001b[32m━━━━━━━━━━━━━━━━━━━━\u001b[0m\u001b[37m\u001b[0m \u001b[1m2s\u001b[0m 110ms/step - accuracy: 0.7147 - loss: 0.5264 - val_accuracy: 0.4828 - val_loss: 0.7670 - learning_rate: 2.0000e-04\n",
      "Epoch 10/50\n",
      "\u001b[1m8/8\u001b[0m \u001b[32m━━━━━━━━━━━━━━━━━━━━\u001b[0m\u001b[37m\u001b[0m \u001b[1m2s\u001b[0m 111ms/step - accuracy: 0.7209 - loss: 0.5345 - val_accuracy: 0.6552 - val_loss: 0.6467 - learning_rate: 2.0000e-04\n",
      "Epoch 11/50\n",
      "\u001b[1m8/8\u001b[0m \u001b[32m━━━━━━━━━━━━━━━━━━━━\u001b[0m\u001b[37m\u001b[0m \u001b[1m0s\u001b[0m 17ms/step - accuracy: 0.7634 - loss: 0.4828\n",
      "Epoch 11: ReduceLROnPlateau reducing learning rate to 4.0000001899898055e-05.\n",
      "\u001b[1m8/8\u001b[0m \u001b[32m━━━━━━━━━━━━━━━━━━━━\u001b[0m\u001b[37m\u001b[0m \u001b[1m2s\u001b[0m 114ms/step - accuracy: 0.7652 - loss: 0.4824 - val_accuracy: 0.6207 - val_loss: 0.6716 - learning_rate: 2.0000e-04\n",
      "Epoch 12/50\n",
      "\u001b[1m8/8\u001b[0m \u001b[32m━━━━━━━━━━━━━━━━━━━━\u001b[0m\u001b[37m\u001b[0m \u001b[1m2s\u001b[0m 109ms/step - accuracy: 0.7489 - loss: 0.4893 - val_accuracy: 0.5862 - val_loss: 0.6939 - learning_rate: 4.0000e-05\n",
      "Epoch 13/50\n",
      "\u001b[1m8/8\u001b[0m \u001b[32m━━━━━━━━━━━━━━━━━━━━\u001b[0m\u001b[37m\u001b[0m \u001b[1m2s\u001b[0m 110ms/step - accuracy: 0.7486 - loss: 0.4711 - val_accuracy: 0.6207 - val_loss: 0.6057 - learning_rate: 4.0000e-05\n",
      "Epoch 14/50\n",
      "\u001b[1m8/8\u001b[0m \u001b[32m━━━━━━━━━━━━━━━━━━━━\u001b[0m\u001b[37m\u001b[0m \u001b[1m2s\u001b[0m 109ms/step - accuracy: 0.7104 - loss: 0.5051 - val_accuracy: 0.7241 - val_loss: 0.5809 - learning_rate: 4.0000e-05\n",
      "Epoch 15/50\n",
      "\u001b[1m8/8\u001b[0m \u001b[32m━━━━━━━━━━━━━━━━━━━━\u001b[0m\u001b[37m\u001b[0m \u001b[1m2s\u001b[0m 110ms/step - accuracy: 0.7348 - loss: 0.5197 - val_accuracy: 0.6552 - val_loss: 0.5664 - learning_rate: 4.0000e-05\n",
      "Epoch 16/50\n",
      "\u001b[1m8/8\u001b[0m \u001b[32m━━━━━━━━━━━━━━━━━━━━\u001b[0m\u001b[37m\u001b[0m \u001b[1m2s\u001b[0m 114ms/step - accuracy: 0.7506 - loss: 0.4928 - val_accuracy: 0.6207 - val_loss: 0.6353 - learning_rate: 4.0000e-05\n",
      "Epoch 17/50\n",
      "\u001b[1m8/8\u001b[0m \u001b[32m━━━━━━━━━━━━━━━━━━━━\u001b[0m\u001b[37m\u001b[0m \u001b[1m2s\u001b[0m 108ms/step - accuracy: 0.7761 - loss: 0.4935 - val_accuracy: 0.7241 - val_loss: 0.5285 - learning_rate: 4.0000e-05\n",
      "Epoch 18/50\n",
      "\u001b[1m8/8\u001b[0m \u001b[32m━━━━━━━━━━━━━━━━━━━━\u001b[0m\u001b[37m\u001b[0m \u001b[1m2s\u001b[0m 109ms/step - accuracy: 0.7299 - loss: 0.4719 - val_accuracy: 0.6552 - val_loss: 0.6632 - learning_rate: 4.0000e-05\n",
      "Epoch 19/50\n",
      "\u001b[1m8/8\u001b[0m \u001b[32m━━━━━━━━━━━━━━━━━━━━\u001b[0m\u001b[37m\u001b[0m \u001b[1m2s\u001b[0m 109ms/step - accuracy: 0.7460 - loss: 0.4768 - val_accuracy: 0.5517 - val_loss: 0.6529 - learning_rate: 4.0000e-05\n",
      "Epoch 20/50\n",
      "\u001b[1m7/8\u001b[0m \u001b[32m━━━━━━━━━━━━━━━━━\u001b[0m\u001b[37m━━━\u001b[0m \u001b[1m0s\u001b[0m 17ms/step - accuracy: 0.7821 - loss: 0.4670\n",
      "Epoch 20: ReduceLROnPlateau reducing learning rate to 8.000000525498762e-06.\n",
      "\u001b[1m8/8\u001b[0m \u001b[32m━━━━━━━━━━━━━━━━━━━━\u001b[0m\u001b[37m\u001b[0m \u001b[1m2s\u001b[0m 123ms/step - accuracy: 0.7698 - loss: 0.4751 - val_accuracy: 0.6552 - val_loss: 0.6441 - learning_rate: 4.0000e-05\n",
      "Epoch 21/50\n",
      "\u001b[1m8/8\u001b[0m \u001b[32m━━━━━━━━━━━━━━━━━━━━\u001b[0m\u001b[37m\u001b[0m \u001b[1m2s\u001b[0m 109ms/step - accuracy: 0.7541 - loss: 0.4946 - val_accuracy: 0.6552 - val_loss: 0.6058 - learning_rate: 8.0000e-06\n",
      "Epoch 22/50\n",
      "\u001b[1m8/8\u001b[0m \u001b[32m━━━━━━━━━━━━━━━━━━━━\u001b[0m\u001b[37m\u001b[0m \u001b[1m2s\u001b[0m 111ms/step - accuracy: 0.7262 - loss: 0.5130 - val_accuracy: 0.6897 - val_loss: 0.5905 - learning_rate: 8.0000e-06\n",
      "Epoch 23/50\n",
      "\u001b[1m7/8\u001b[0m \u001b[32m━━━━━━━━━━━━━━━━━\u001b[0m\u001b[37m━━━\u001b[0m \u001b[1m0s\u001b[0m 17ms/step - accuracy: 0.7068 - loss: 0.5447\n",
      "Epoch 23: ReduceLROnPlateau reducing learning rate to 1.6000001778593287e-06.\n",
      "\u001b[1m8/8\u001b[0m \u001b[32m━━━━━━━━━━━━━━━━━━━━\u001b[0m\u001b[37m\u001b[0m \u001b[1m2s\u001b[0m 108ms/step - accuracy: 0.7164 - loss: 0.5312 - val_accuracy: 0.6207 - val_loss: 0.6985 - learning_rate: 8.0000e-06\n",
      "Epoch 24/50\n",
      "\u001b[1m8/8\u001b[0m \u001b[32m━━━━━━━━━━━━━━━━━━━━\u001b[0m\u001b[37m\u001b[0m \u001b[1m2s\u001b[0m 107ms/step - accuracy: 0.7662 - loss: 0.4822 - val_accuracy: 0.6897 - val_loss: 0.4898 - learning_rate: 1.6000e-06\n",
      "Epoch 25/50\n",
      "\u001b[1m8/8\u001b[0m \u001b[32m━━━━━━━━━━━━━━━━━━━━\u001b[0m\u001b[37m\u001b[0m \u001b[1m2s\u001b[0m 107ms/step - accuracy: 0.7309 - loss: 0.5219 - val_accuracy: 0.7241 - val_loss: 0.5436 - learning_rate: 1.6000e-06\n",
      "Epoch 26/50\n",
      "\u001b[1m8/8\u001b[0m \u001b[32m━━━━━━━━━━━━━━━━━━━━\u001b[0m\u001b[37m\u001b[0m \u001b[1m2s\u001b[0m 107ms/step - accuracy: 0.8116 - loss: 0.4299 - val_accuracy: 0.6897 - val_loss: 0.6417 - learning_rate: 1.6000e-06\n",
      "Epoch 27/50\n",
      "\u001b[1m5/8\u001b[0m \u001b[32m━━━━━━━━━━━━\u001b[0m\u001b[37m━━━━━━━━\u001b[0m \u001b[1m0s\u001b[0m 16ms/step - accuracy: 0.7946 - loss: 0.4342 \n",
      "Epoch 27: ReduceLROnPlateau reducing learning rate to 3.200000264769187e-07.\n",
      "\u001b[1m8/8\u001b[0m \u001b[32m━━━━━━━━━━━━━━━━━━━━\u001b[0m\u001b[37m\u001b[0m \u001b[1m2s\u001b[0m 114ms/step - accuracy: 0.7841 - loss: 0.4476 - val_accuracy: 0.5517 - val_loss: 0.6966 - learning_rate: 1.6000e-06\n",
      "Epoch 28/50\n",
      "\u001b[1m8/8\u001b[0m \u001b[32m━━━━━━━━━━━━━━━━━━━━\u001b[0m\u001b[37m\u001b[0m \u001b[1m2s\u001b[0m 110ms/step - accuracy: 0.7424 - loss: 0.5099 - val_accuracy: 0.7241 - val_loss: 0.4933 - learning_rate: 3.2000e-07\n",
      "Epoch 29/50\n",
      "\u001b[1m8/8\u001b[0m \u001b[32m━━━━━━━━━━━━━━━━━━━━\u001b[0m\u001b[37m\u001b[0m \u001b[1m2s\u001b[0m 112ms/step - accuracy: 0.7407 - loss: 0.4726 - val_accuracy: 0.5862 - val_loss: 0.6966 - learning_rate: 3.2000e-07\n",
      "Epoch 30/50\n",
      "\u001b[1m8/8\u001b[0m \u001b[32m━━━━━━━━━━━━━━━━━━━━\u001b[0m\u001b[37m\u001b[0m \u001b[1m0s\u001b[0m 16ms/step - accuracy: 0.7448 - loss: 0.4912\n",
      "Epoch 30: ReduceLROnPlateau reducing learning rate to 1e-07.\n",
      "\u001b[1m8/8\u001b[0m \u001b[32m━━━━━━━━━━━━━━━━━━━━\u001b[0m\u001b[37m\u001b[0m \u001b[1m2s\u001b[0m 107ms/step - accuracy: 0.7486 - loss: 0.4862 - val_accuracy: 0.5862 - val_loss: 0.7091 - learning_rate: 3.2000e-07\n",
      "Epoch 31/50\n",
      "\u001b[1m8/8\u001b[0m \u001b[32m━━━━━━━━━━━━━━━━━━━━\u001b[0m\u001b[37m\u001b[0m \u001b[1m2s\u001b[0m 108ms/step - accuracy: 0.7883 - loss: 0.4622 - val_accuracy: 0.6552 - val_loss: 0.5763 - learning_rate: 1.0000e-07\n",
      "Epoch 32/50\n",
      "\u001b[1m8/8\u001b[0m \u001b[32m━━━━━━━━━━━━━━━━━━━━\u001b[0m\u001b[37m\u001b[0m \u001b[1m2s\u001b[0m 108ms/step - accuracy: 0.7317 - loss: 0.4879 - val_accuracy: 0.6552 - val_loss: 0.5732 - learning_rate: 1.0000e-07\n",
      "Epoch 33/50\n",
      "\u001b[1m8/8\u001b[0m \u001b[32m━━━━━━━━━━━━━━━━━━━━\u001b[0m\u001b[37m\u001b[0m \u001b[1m2s\u001b[0m 109ms/step - accuracy: 0.7724 - loss: 0.4678 - val_accuracy: 0.6897 - val_loss: 0.6002 - learning_rate: 1.0000e-07\n",
      "Epoch 34/50\n",
      "\u001b[1m8/8\u001b[0m \u001b[32m━━━━━━━━━━━━━━━━━━━━\u001b[0m\u001b[37m\u001b[0m \u001b[1m2s\u001b[0m 108ms/step - accuracy: 0.7455 - loss: 0.5069 - val_accuracy: 0.6897 - val_loss: 0.6590 - learning_rate: 1.0000e-07\n"
     ]
    }
   ],
   "source": [
    "history = model.fit(train_ds, epochs=50, validation_data = validation_ds, callbacks = [early_stopping, reduce_lr])"
   ]
  },
  {
   "cell_type": "code",
   "execution_count": 18,
   "id": "c735c795",
   "metadata": {
    "execution": {
     "iopub.execute_input": "2025-02-18T15:06:53.459605Z",
     "iopub.status.busy": "2025-02-18T15:06:53.459317Z",
     "iopub.status.idle": "2025-02-18T15:06:54.329453Z",
     "shell.execute_reply": "2025-02-18T15:06:54.328759Z"
    },
    "papermill": {
     "duration": 0.889204,
     "end_time": "2025-02-18T15:06:54.330852",
     "exception": false,
     "start_time": "2025-02-18T15:06:53.441648",
     "status": "completed"
    },
    "tags": []
   },
   "outputs": [
    {
     "name": "stdout",
     "output_type": "stream",
     "text": [
      "\u001b[1m2/2\u001b[0m \u001b[32m━━━━━━━━━━━━━━━━━━━━\u001b[0m\u001b[37m\u001b[0m \u001b[1m0s\u001b[0m 91ms/step - accuracy: 0.6290 - loss: 0.6521\n"
     ]
    },
    {
     "data": {
      "text/plain": [
       "[0.6714949607849121, 0.6551724076271057]"
      ]
     },
     "execution_count": 18,
     "metadata": {},
     "output_type": "execute_result"
    }
   ],
   "source": [
    "model.evaluate(validation_ds)"
   ]
  },
  {
   "cell_type": "code",
   "execution_count": 19,
   "id": "74ccd410",
   "metadata": {
    "execution": {
     "iopub.execute_input": "2025-02-18T15:06:54.404132Z",
     "iopub.status.busy": "2025-02-18T15:06:54.403836Z",
     "iopub.status.idle": "2025-02-18T15:06:55.498311Z",
     "shell.execute_reply": "2025-02-18T15:06:55.497452Z"
    },
    "papermill": {
     "duration": 1.149977,
     "end_time": "2025-02-18T15:06:55.499501",
     "exception": false,
     "start_time": "2025-02-18T15:06:54.349524",
     "status": "completed"
    },
    "tags": []
   },
   "outputs": [
    {
     "name": "stdout",
     "output_type": "stream",
     "text": [
      "\u001b[1m4/4\u001b[0m \u001b[32m━━━━━━━━━━━━━━━━━━━━\u001b[0m\u001b[37m\u001b[0m \u001b[1m0s\u001b[0m 102ms/step - accuracy: 0.6592 - loss: nan\n"
     ]
    },
    {
     "data": {
      "text/plain": [
       "[0.5826582908630371, 0.6938775777816772]"
      ]
     },
     "execution_count": 19,
     "metadata": {},
     "output_type": "execute_result"
    }
   ],
   "source": [
    "model.evaluate(test_ds)"
   ]
  },
  {
   "cell_type": "code",
   "execution_count": 20,
   "id": "bd826793",
   "metadata": {
    "execution": {
     "iopub.execute_input": "2025-02-18T15:06:55.534548Z",
     "iopub.status.busy": "2025-02-18T15:06:55.534284Z",
     "iopub.status.idle": "2025-02-18T15:06:55.842123Z",
     "shell.execute_reply": "2025-02-18T15:06:55.841331Z"
    },
    "papermill": {
     "duration": 0.326365,
     "end_time": "2025-02-18T15:06:55.843307",
     "exception": false,
     "start_time": "2025-02-18T15:06:55.516942",
     "status": "completed"
    },
    "tags": []
   },
   "outputs": [
    {
     "data": {
      "image/png": "[encoded data removed]",
      "text/plain": [
       "<Figure size 640x480 with 1 Axes>"
      ]
     },
     "metadata": {},
     "output_type": "display_data"
    }
   ],
   "source": [
    "epochs = np.arange(len(history.history['accuracy']))\n",
    "train_acc = history.history['accuracy']\n",
    "val_acc = history.history['val_accuracy']\n",
    "\n",
    "plt.plot(epochs, val_acc, color='black', linestyle='solid', label='validation')\n",
    "plt.plot(epochs, train_acc, color='black', linestyle='dashed', label='train')\n",
    "\n",
    "plt.title('Sequential model')\n",
    "plt.xlabel('Epoch')\n",
    "plt.ylabel('Accuracy')\n",
    "\n",
    "plt.xticks(epochs)\n",
    "\n",
    "plt.legend()\n",
    "\n",
    "plt.show()\n",
    "\n"
   ]
  },
  {
   "cell_type": "markdown",
   "id": "1163bee0",
   "metadata": {
    "papermill": {
     "duration": 0.017341,
     "end_time": "2025-02-18T15:06:55.878723",
     "exception": false,
     "start_time": "2025-02-18T15:06:55.861382",
     "status": "completed"
    },
    "tags": []
   },
   "source": [
    "### Using transfer learning"
   ]
  },
  {
   "cell_type": "markdown",
   "id": "81d4bfaf",
   "metadata": {
    "execution": {
     "iopub.execute_input": "2025-02-18T13:55:00.459257Z",
     "iopub.status.busy": "2025-02-18T13:55:00.458913Z",
     "iopub.status.idle": "2025-02-18T13:55:00.463542Z",
     "shell.execute_reply": "2025-02-18T13:55:00.462272Z",
     "shell.execute_reply.started": "2025-02-18T13:55:00.459232Z"
    },
    "papermill": {
     "duration": 0.017958,
     "end_time": "2025-02-18T15:06:55.914246",
     "exception": false,
     "start_time": "2025-02-18T15:06:55.896288",
     "status": "completed"
    },
    "tags": []
   },
   "source": [
    "#### EfficientNetB3"
   ]
  },
  {
   "cell_type": "code",
   "execution_count": 21,
   "id": "26a0b6a7",
   "metadata": {
    "execution": {
     "iopub.execute_input": "2025-02-18T15:06:55.950022Z",
     "iopub.status.busy": "2025-02-18T15:06:55.949764Z",
     "iopub.status.idle": "2025-02-18T15:06:58.481275Z",
     "shell.execute_reply": "2025-02-18T15:06:58.480608Z"
    },
    "papermill": {
     "duration": 2.550997,
     "end_time": "2025-02-18T15:06:58.482833",
     "exception": false,
     "start_time": "2025-02-18T15:06:55.931836",
     "status": "completed"
    },
    "tags": []
   },
   "outputs": [
    {
     "name": "stdout",
     "output_type": "stream",
     "text": [
      "Downloading data from https://storage.googleapis.com/keras-applications/efficientnetb3_notop.h5\n",
      "\u001b[1m43941136/43941136\u001b[0m \u001b[32m━━━━━━━━━━━━━━━━━━━━\u001b[0m\u001b[37m\u001b[0m \u001b[1m0s\u001b[0m 0us/step\n"
     ]
    }
   ],
   "source": [
    "# Create pre-trained model\n",
    "base_model = tf.keras.applications.EfficientNetB3(include_top=False, weights=\"imagenet\", input_shape=(image_size, image_size, 3), pooling='max')\n",
    "for layer in base_model.layers:\n",
    "    layer.trainable = False"
   ]
  },
  {
   "cell_type": "code",
   "execution_count": 22,
   "id": "b464c38e",
   "metadata": {
    "execution": {
     "iopub.execute_input": "2025-02-18T15:06:58.520991Z",
     "iopub.status.busy": "2025-02-18T15:06:58.520749Z",
     "iopub.status.idle": "2025-02-18T15:06:58.523965Z",
     "shell.execute_reply": "2025-02-18T15:06:58.523320Z"
    },
    "papermill": {
     "duration": 0.023452,
     "end_time": "2025-02-18T15:06:58.525121",
     "exception": false,
     "start_time": "2025-02-18T15:06:58.501669",
     "status": "completed"
    },
    "tags": []
   },
   "outputs": [],
   "source": [
    "from tensorflow.keras.layers import BatchNormalization"
   ]
  },
  {
   "cell_type": "code",
   "execution_count": 23,
   "id": "3f1eedaf",
   "metadata": {
    "execution": {
     "iopub.execute_input": "2025-02-18T15:06:58.561969Z",
     "iopub.status.busy": "2025-02-18T15:06:58.561740Z",
     "iopub.status.idle": "2025-02-18T15:06:58.607109Z",
     "shell.execute_reply": "2025-02-18T15:06:58.606199Z"
    },
    "papermill": {
     "duration": 0.065448,
     "end_time": "2025-02-18T15:06:58.608688",
     "exception": false,
     "start_time": "2025-02-18T15:06:58.543240",
     "status": "completed"
    },
    "tags": []
   },
   "outputs": [],
   "source": [
    "\n",
    "# model_v1 = Sequential([\n",
    "#     base_model,\n",
    "#     Dense(32, activation='relu'),\n",
    "#     Dropout(.2),\n",
    "#     Dense(32, activation='relu'),\n",
    "#     Dense(2, activation = 'softmax')\n",
    "# ])\n",
    "\n",
    "model_v1 = Sequential([\n",
    "    base_model,\n",
    "    BatchNormalization(),\n",
    "    Dense(256, activation='relu'),\n",
    "    Dropout(0.2),\n",
    "    Dense(64, activation='relu'),\n",
    "    Dropout(0.2),\n",
    "    Dense(2, activation='softmax')\n",
    "])\n",
    "\n",
    "model_v1.compile(optimizer='adam',\n",
    "                loss='categorical_crossentropy',\n",
    "                metrics=['accuracy'])"
   ]
  },
  {
   "cell_type": "code",
   "execution_count": 24,
   "id": "dac0d15f",
   "metadata": {
    "execution": {
     "iopub.execute_input": "2025-02-18T15:06:58.645486Z",
     "iopub.status.busy": "2025-02-18T15:06:58.645280Z",
     "iopub.status.idle": "2025-02-18T15:08:14.102735Z",
     "shell.execute_reply": "2025-02-18T15:08:14.102014Z"
    },
    "papermill": {
     "duration": 75.47734,
     "end_time": "2025-02-18T15:08:14.104036",
     "exception": false,
     "start_time": "2025-02-18T15:06:58.626696",
     "status": "completed"
    },
    "tags": []
   },
   "outputs": [
    {
     "name": "stdout",
     "output_type": "stream",
     "text": [
      "Epoch 1/50\n",
      "\u001b[1m8/8\u001b[0m \u001b[32m━━━━━━━━━━━━━━━━━━━━\u001b[0m\u001b[37m\u001b[0m \u001b[1m64s\u001b[0m 4s/step - accuracy: 0.4894 - loss: 1.2977 - val_accuracy: 0.5567 - val_loss: 15.5054 - learning_rate: 0.0010\n",
      "Epoch 2/50\n",
      "\u001b[1m8/8\u001b[0m \u001b[32m━━━━━━━━━━━━━━━━━━━━\u001b[0m\u001b[37m\u001b[0m \u001b[1m1s\u001b[0m 55ms/step - accuracy: 0.5287 - loss: 1.2172 - val_accuracy: 0.5567 - val_loss: 9.6835 - learning_rate: 0.0010\n",
      "Epoch 3/50\n",
      "\u001b[1m8/8\u001b[0m \u001b[32m━━━━━━━━━━━━━━━━━━━━\u001b[0m\u001b[37m\u001b[0m \u001b[1m1s\u001b[0m 46ms/step - accuracy: 0.5106 - loss: 1.1740 - val_accuracy: 0.5567 - val_loss: 2.6587 - learning_rate: 0.0010\n",
      "Epoch 4/50\n",
      "\u001b[1m8/8\u001b[0m \u001b[32m━━━━━━━━━━━━━━━━━━━━\u001b[0m\u001b[37m\u001b[0m \u001b[1m1s\u001b[0m 45ms/step - accuracy: 0.5430 - loss: 0.9773 - val_accuracy: 0.5567 - val_loss: 6.0343 - learning_rate: 0.0010\n",
      "Epoch 5/50\n",
      "\u001b[1m8/8\u001b[0m \u001b[32m━━━━━━━━━━━━━━━━━━━━\u001b[0m\u001b[37m\u001b[0m \u001b[1m1s\u001b[0m 45ms/step - accuracy: 0.5990 - loss: 0.9708 - val_accuracy: 0.5567 - val_loss: 1.8658 - learning_rate: 0.0010\n",
      "Epoch 6/50\n",
      "\u001b[1m8/8\u001b[0m \u001b[32m━━━━━━━━━━━━━━━━━━━━\u001b[0m\u001b[37m\u001b[0m \u001b[1m1s\u001b[0m 48ms/step - accuracy: 0.4764 - loss: 0.9883 - val_accuracy: 0.6701 - val_loss: 0.6695 - learning_rate: 0.0010\n",
      "Epoch 7/50\n",
      "\u001b[1m8/8\u001b[0m \u001b[32m━━━━━━━━━━━━━━━━━━━━\u001b[0m\u001b[37m\u001b[0m \u001b[1m1s\u001b[0m 48ms/step - accuracy: 0.5161 - loss: 0.9480 - val_accuracy: 0.5567 - val_loss: 2.5274 - learning_rate: 0.0010\n",
      "Epoch 8/50\n",
      "\u001b[1m8/8\u001b[0m \u001b[32m━━━━━━━━━━━━━━━━━━━━\u001b[0m\u001b[37m\u001b[0m \u001b[1m1s\u001b[0m 47ms/step - accuracy: 0.5458 - loss: 0.9464 - val_accuracy: 0.5567 - val_loss: 0.7418 - learning_rate: 0.0010\n",
      "Epoch 9/50\n",
      "\u001b[1m7/8\u001b[0m \u001b[32m━━━━━━━━━━━━━━━━━\u001b[0m\u001b[37m━━━\u001b[0m \u001b[1m0s\u001b[0m 21ms/step - accuracy: 0.4553 - loss: 1.0266\n",
      "Epoch 9: ReduceLROnPlateau reducing learning rate to 0.00020000000949949026.\n",
      "\u001b[1m8/8\u001b[0m \u001b[32m━━━━━━━━━━━━━━━━━━━━\u001b[0m\u001b[37m\u001b[0m \u001b[1m1s\u001b[0m 50ms/step - accuracy: 0.4774 - loss: 0.9942 - val_accuracy: 0.4433 - val_loss: 0.7340 - learning_rate: 0.0010\n",
      "Epoch 10/50\n",
      "\u001b[1m8/8\u001b[0m \u001b[32m━━━━━━━━━━━━━━━━━━━━\u001b[0m\u001b[37m\u001b[0m \u001b[1m1s\u001b[0m 51ms/step - accuracy: 0.5666 - loss: 0.9107 - val_accuracy: 0.5567 - val_loss: 0.8479 - learning_rate: 2.0000e-04\n"
     ]
    }
   ],
   "source": [
    "history = model_v1.fit(train_ds, epochs=50, validation_data = test_ds, callbacks = [early_stopping, reduce_lr])"
   ]
  },
  {
   "cell_type": "code",
   "execution_count": 25,
   "id": "6d11ddf1",
   "metadata": {
    "execution": {
     "iopub.execute_input": "2025-02-18T15:08:14.146488Z",
     "iopub.status.busy": "2025-02-18T15:08:14.146245Z",
     "iopub.status.idle": "2025-02-18T15:08:14.434065Z",
     "shell.execute_reply": "2025-02-18T15:08:14.433232Z"
    },
    "papermill": {
     "duration": 0.311058,
     "end_time": "2025-02-18T15:08:14.435959",
     "exception": false,
     "start_time": "2025-02-18T15:08:14.124901",
     "status": "completed"
    },
    "tags": []
   },
   "outputs": [
    {
     "name": "stdout",
     "output_type": "stream",
     "text": [
      "\u001b[1m4/4\u001b[0m \u001b[32m━━━━━━━━━━━━━━━━━━━━\u001b[0m\u001b[37m\u001b[0m \u001b[1m0s\u001b[0m 33ms/step - accuracy: 0.7039 - loss: 0.6277\n"
     ]
    },
    {
     "data": {
      "text/plain": [
       "[0.8479114770889282, 0.5567010045051575]"
      ]
     },
     "execution_count": 25,
     "metadata": {},
     "output_type": "execute_result"
    }
   ],
   "source": [
    "model_v1.evaluate(test_ds)"
   ]
  },
  {
   "cell_type": "markdown",
   "id": "1631befd",
   "metadata": {
    "execution": {
     "iopub.execute_input": "2025-02-18T13:55:00.459257Z",
     "iopub.status.busy": "2025-02-18T13:55:00.458913Z",
     "iopub.status.idle": "2025-02-18T13:55:00.463542Z",
     "shell.execute_reply": "2025-02-18T13:55:00.462272Z",
     "shell.execute_reply.started": "2025-02-18T13:55:00.459232Z"
    },
    "papermill": {
     "duration": 0.020312,
     "end_time": "2025-02-18T15:08:14.477500",
     "exception": false,
     "start_time": "2025-02-18T15:08:14.457188",
     "status": "completed"
    },
    "tags": []
   },
   "source": [
    "#### VGG16"
   ]
  },
  {
   "cell_type": "code",
   "execution_count": 26,
   "id": "ffb5c24f",
   "metadata": {
    "execution": {
     "iopub.execute_input": "2025-02-18T15:08:14.518990Z",
     "iopub.status.busy": "2025-02-18T15:08:14.518729Z",
     "iopub.status.idle": "2025-02-18T15:08:15.166607Z",
     "shell.execute_reply": "2025-02-18T15:08:15.165895Z"
    },
    "papermill": {
     "duration": 0.670163,
     "end_time": "2025-02-18T15:08:15.168188",
     "exception": false,
     "start_time": "2025-02-18T15:08:14.498025",
     "status": "completed"
    },
    "tags": []
   },
   "outputs": [
    {
     "name": "stdout",
     "output_type": "stream",
     "text": [
      "Downloading data from https://storage.googleapis.com/tensorflow/keras-applications/vgg16/vgg16_weights_tf_dim_ordering_tf_kernels_notop.h5\n",
      "\u001b[1m58889256/58889256\u001b[0m \u001b[32m━━━━━━━━━━━━━━━━━━━━\u001b[0m\u001b[37m\u001b[0m \u001b[1m0s\u001b[0m 0us/step\n"
     ]
    }
   ],
   "source": [
    "base_model = tf.keras.applications.VGG16(include_top=False, weights=\"imagenet\", input_shape=(image_size, image_size, 3), pooling='max')"
   ]
  },
  {
   "cell_type": "code",
   "execution_count": 27,
   "id": "84bac76a",
   "metadata": {
    "execution": {
     "iopub.execute_input": "2025-02-18T15:08:15.211287Z",
     "iopub.status.busy": "2025-02-18T15:08:15.211047Z",
     "iopub.status.idle": "2025-02-18T15:08:15.253069Z",
     "shell.execute_reply": "2025-02-18T15:08:15.252560Z"
    },
    "papermill": {
     "duration": 0.064549,
     "end_time": "2025-02-18T15:08:15.254366",
     "exception": false,
     "start_time": "2025-02-18T15:08:15.189817",
     "status": "completed"
    },
    "tags": []
   },
   "outputs": [],
   "source": [
    "for layer in base_model.layers:\n",
    "    layer.trainable = False\n",
    "    \n",
    "model_v2 = Sequential([\n",
    "    base_model,\n",
    "    BatchNormalization(),\n",
    "    Dense(256, activation='relu'),\n",
    "    Dropout(0.3),\n",
    "    Dense(64, activation='relu'),\n",
    "    Dropout(0.3),\n",
    "    Dense(2, activation='softmax')\n",
    "])\n",
    "\n",
    "model_v2.compile(optimizer='adam',\n",
    "                loss='categorical_crossentropy',\n",
    "                metrics=['accuracy'])"
   ]
  },
  {
   "cell_type": "markdown",
   "id": "7a45357d",
   "metadata": {
    "papermill": {
     "duration": 0.020428,
     "end_time": "2025-02-18T15:08:15.295657",
     "exception": false,
     "start_time": "2025-02-18T15:08:15.275229",
     "status": "completed"
    },
    "tags": []
   },
   "source": [
    "Add checkpoint to save best model."
   ]
  },
  {
   "cell_type": "code",
   "execution_count": 28,
   "id": "92ff4037",
   "metadata": {
    "execution": {
     "iopub.execute_input": "2025-02-18T15:08:15.338369Z",
     "iopub.status.busy": "2025-02-18T15:08:15.338154Z",
     "iopub.status.idle": "2025-02-18T15:08:15.341179Z",
     "shell.execute_reply": "2025-02-18T15:08:15.340612Z"
    },
    "papermill": {
     "duration": 0.025458,
     "end_time": "2025-02-18T15:08:15.342359",
     "exception": false,
     "start_time": "2025-02-18T15:08:15.316901",
     "status": "completed"
    },
    "tags": []
   },
   "outputs": [],
   "source": [
    "checkpoint = keras.callbacks.ModelCheckpoint(\n",
    "        \"vgg16_{epoch:02d}_{val_accuracy:.3f}.keras\",\n",
    "        monitor=\"val_accuracy\",\n",
    "        save_best_only=True,\n",
    "        mode='max'\n",
    "    )"
   ]
  },
  {
   "cell_type": "code",
   "execution_count": 29,
   "id": "6a1957f6",
   "metadata": {
    "execution": {
     "iopub.execute_input": "2025-02-18T15:08:15.384664Z",
     "iopub.status.busy": "2025-02-18T15:08:15.384418Z",
     "iopub.status.idle": "2025-02-18T15:08:41.103780Z",
     "shell.execute_reply": "2025-02-18T15:08:41.102891Z"
    },
    "papermill": {
     "duration": 25.742127,
     "end_time": "2025-02-18T15:08:41.105140",
     "exception": false,
     "start_time": "2025-02-18T15:08:15.363013",
     "status": "completed"
    },
    "tags": []
   },
   "outputs": [
    {
     "name": "stdout",
     "output_type": "stream",
     "text": [
      "Epoch 1/50\n",
      "\u001b[1m8/8\u001b[0m \u001b[32m━━━━━━━━━━━━━━━━━━━━\u001b[0m\u001b[37m\u001b[0m \u001b[1m14s\u001b[0m 938ms/step - accuracy: 0.5750 - loss: 0.8501 - val_accuracy: 0.6598 - val_loss: 0.6216 - learning_rate: 0.0010\n",
      "Epoch 2/50\n",
      "\u001b[1m8/8\u001b[0m \u001b[32m━━━━━━━━━━━━━━━━━━━━\u001b[0m\u001b[37m\u001b[0m \u001b[1m1s\u001b[0m 95ms/step - accuracy: 0.7348 - loss: 0.6798 - val_accuracy: 0.7423 - val_loss: 0.5514 - learning_rate: 0.0010\n",
      "Epoch 3/50\n",
      "\u001b[1m8/8\u001b[0m \u001b[32m━━━━━━━━━━━━━━━━━━━━\u001b[0m\u001b[37m\u001b[0m \u001b[1m1s\u001b[0m 86ms/step - accuracy: 0.7949 - loss: 0.4780 - val_accuracy: 0.7526 - val_loss: 0.5545 - learning_rate: 0.0010\n",
      "Epoch 4/50\n",
      "\u001b[1m8/8\u001b[0m \u001b[32m━━━━━━━━━━━━━━━━━━━━\u001b[0m\u001b[37m\u001b[0m \u001b[1m1s\u001b[0m 51ms/step - accuracy: 0.8580 - loss: 0.3674 - val_accuracy: 0.6907 - val_loss: 0.5704 - learning_rate: 0.0010\n",
      "Epoch 5/50\n",
      "\u001b[1m8/8\u001b[0m \u001b[32m━━━━━━━━━━━━━━━━━━━━\u001b[0m\u001b[37m\u001b[0m \u001b[1m1s\u001b[0m 52ms/step - accuracy: 0.8419 - loss: 0.3565 - val_accuracy: 0.7010 - val_loss: 0.5507 - learning_rate: 0.0010\n",
      "Epoch 6/50\n",
      "\u001b[1m8/8\u001b[0m \u001b[32m━━━━━━━━━━━━━━━━━━━━\u001b[0m\u001b[37m\u001b[0m \u001b[1m1s\u001b[0m 54ms/step - accuracy: 0.8037 - loss: 0.4033 - val_accuracy: 0.7010 - val_loss: 0.5357 - learning_rate: 0.0010\n",
      "Epoch 7/50\n",
      "\u001b[1m8/8\u001b[0m \u001b[32m━━━━━━━━━━━━━━━━━━━━\u001b[0m\u001b[37m\u001b[0m \u001b[1m1s\u001b[0m 53ms/step - accuracy: 0.8601 - loss: 0.3561 - val_accuracy: 0.7113 - val_loss: 0.5375 - learning_rate: 0.0010\n",
      "Epoch 8/50\n",
      "\u001b[1m8/8\u001b[0m \u001b[32m━━━━━━━━━━━━━━━━━━━━\u001b[0m\u001b[37m\u001b[0m \u001b[1m1s\u001b[0m 53ms/step - accuracy: 0.8422 - loss: 0.3355 - val_accuracy: 0.6907 - val_loss: 0.5268 - learning_rate: 0.0010\n",
      "Epoch 9/50\n",
      "\u001b[1m8/8\u001b[0m \u001b[32m━━━━━━━━━━━━━━━━━━━━\u001b[0m\u001b[37m\u001b[0m \u001b[1m1s\u001b[0m 51ms/step - accuracy: 0.9141 - loss: 0.2035 - val_accuracy: 0.7526 - val_loss: 0.5045 - learning_rate: 0.0010\n",
      "Epoch 10/50\n",
      "\u001b[1m8/8\u001b[0m \u001b[32m━━━━━━━━━━━━━━━━━━━━\u001b[0m\u001b[37m\u001b[0m \u001b[1m1s\u001b[0m 54ms/step - accuracy: 0.8562 - loss: 0.3106 - val_accuracy: 0.7010 - val_loss: 0.5375 - learning_rate: 0.0010\n"
     ]
    }
   ],
   "source": [
    "history = model_v2.fit(train_ds, epochs=50, validation_data = test_ds, callbacks = [early_stopping, reduce_lr, checkpoint])"
   ]
  },
  {
   "cell_type": "markdown",
   "id": "1d705d52",
   "metadata": {
    "execution": {
     "iopub.execute_input": "2025-02-18T14:40:27.385200Z",
     "iopub.status.busy": "2025-02-18T14:40:27.384894Z",
     "iopub.status.idle": "2025-02-18T14:40:27.388506Z",
     "shell.execute_reply": "2025-02-18T14:40:27.387686Z",
     "shell.execute_reply.started": "2025-02-18T14:40:27.385168Z"
    },
    "papermill": {
     "duration": 0.02327,
     "end_time": "2025-02-18T15:08:41.153169",
     "exception": false,
     "start_time": "2025-02-18T15:08:41.129899",
     "status": "completed"
    },
    "tags": []
   },
   "source": [
    "#### Model evaluation"
   ]
  },
  {
   "cell_type": "code",
   "execution_count": 30,
   "id": "7aab78fa",
   "metadata": {
    "execution": {
     "iopub.execute_input": "2025-02-18T15:08:41.200604Z",
     "iopub.status.busy": "2025-02-18T15:08:41.200301Z",
     "iopub.status.idle": "2025-02-18T15:08:41.490470Z",
     "shell.execute_reply": "2025-02-18T15:08:41.489608Z"
    },
    "papermill": {
     "duration": 0.315522,
     "end_time": "2025-02-18T15:08:41.491938",
     "exception": false,
     "start_time": "2025-02-18T15:08:41.176416",
     "status": "completed"
    },
    "tags": []
   },
   "outputs": [
    {
     "name": "stdout",
     "output_type": "stream",
     "text": [
      "\u001b[1m4/4\u001b[0m \u001b[32m━━━━━━━━━━━━━━━━━━━━\u001b[0m\u001b[37m\u001b[0m \u001b[1m0s\u001b[0m 31ms/step - accuracy: 0.6846 - loss: 0.5619\n"
     ]
    },
    {
     "data": {
      "text/plain": [
       "[0.5375194549560547, 0.7010309100151062]"
      ]
     },
     "execution_count": 30,
     "metadata": {},
     "output_type": "execute_result"
    }
   ],
   "source": [
    "model_v2.evaluate(test_ds)"
   ]
  },
  {
   "cell_type": "code",
   "execution_count": 31,
   "id": "2e478c41",
   "metadata": {
    "execution": {
     "iopub.execute_input": "2025-02-18T15:08:41.543104Z",
     "iopub.status.busy": "2025-02-18T15:08:41.542849Z",
     "iopub.status.idle": "2025-02-18T15:08:47.499413Z",
     "shell.execute_reply": "2025-02-18T15:08:47.498718Z"
    },
    "papermill": {
     "duration": 5.98234,
     "end_time": "2025-02-18T15:08:47.500799",
     "exception": false,
     "start_time": "2025-02-18T15:08:41.518459",
     "status": "completed"
    },
    "tags": []
   },
   "outputs": [
    {
     "name": "stdout",
     "output_type": "stream",
     "text": [
      "\u001b[1m8/8\u001b[0m \u001b[32m━━━━━━━━━━━━━━━━━━━━\u001b[0m\u001b[37m\u001b[0m \u001b[1m1s\u001b[0m 185ms/step - accuracy: 0.8904 - loss: 0.3585\n",
      "\u001b[1m2/2\u001b[0m \u001b[32m━━━━━━━━━━━━━━━━━━━━\u001b[0m\u001b[37m\u001b[0m \u001b[1m4s\u001b[0m 4s/step - accuracy: 0.7349 - loss: 0.5138\n",
      "\u001b[1m4/4\u001b[0m \u001b[32m━━━━━━━━━━━━━━━━━━━━\u001b[0m\u001b[37m\u001b[0m \u001b[1m0s\u001b[0m 31ms/step - accuracy: 0.6846 - loss: 0.5619\n",
      "Train Loss:  0.3427690863609314\n",
      "Train Accuracy:  0.8983050584793091\n",
      "--------------------\n",
      "Validation Loss:  0.49635908007621765\n",
      "Validation Accuracy:  0.7586206793785095\n",
      "--------------------\n",
      "Test Loss:  0.5375194549560547\n",
      "Test Accuracy:  0.7010309100151062\n"
     ]
    }
   ],
   "source": [
    "train_score = model_v2.evaluate(train_ds)\n",
    "valid_score = model_v2.evaluate(validation_ds)\n",
    "test_score = model_v2.evaluate(test_ds)\n",
    "\n",
    "print(\"Train Loss: \", train_score[0])\n",
    "print(\"Train Accuracy: \", train_score[1])\n",
    "print('-' * 20)\n",
    "print(\"Validation Loss: \", valid_score[0])\n",
    "print(\"Validation Accuracy: \", valid_score[1])\n",
    "print('-' * 20)\n",
    "print(\"Test Loss: \", test_score[0])\n",
    "print(\"Test Accuracy: \", test_score[1])"
   ]
  },
  {
   "cell_type": "code",
   "execution_count": 32,
   "id": "a52e50b5",
   "metadata": {
    "execution": {
     "iopub.execute_input": "2025-02-18T15:08:47.552875Z",
     "iopub.status.busy": "2025-02-18T15:08:47.552623Z",
     "iopub.status.idle": "2025-02-18T15:08:48.807031Z",
     "shell.execute_reply": "2025-02-18T15:08:48.806110Z"
    },
    "papermill": {
     "duration": 1.281037,
     "end_time": "2025-02-18T15:08:48.808516",
     "exception": false,
     "start_time": "2025-02-18T15:08:47.527479",
     "status": "completed"
    },
    "tags": []
   },
   "outputs": [
    {
     "name": "stdout",
     "output_type": "stream",
     "text": [
      "\u001b[1m4/4\u001b[0m \u001b[32m━━━━━━━━━━━━━━━━━━━━\u001b[0m\u001b[37m\u001b[0m \u001b[1m1s\u001b[0m 188ms/step\n",
      "[1 1 1 0 0 0 0 1 0 0 0 0 1 0 0 0 0 0 0 1 1 0 1 0 1 0 0 0 1 1 1 0 1 0 0 1 0\n",
      " 1 0 0 0 1 0 0 0 1 0 1 0 0 0 0 0 0 0 1 1 1 1 1 1 1 0 1 1 1 1 1 1 1 0 1 1 1\n",
      " 1 0 0 1 0 1 1 1 1 0 0 0 1 1 1 0 1 1 1 1 1 1 0]\n"
     ]
    }
   ],
   "source": [
    "preds = model_v2.predict(test_ds)\n",
    "y_pred = np.argmax(preds, axis=1)\n",
    "print(y_pred)"
   ]
  },
  {
   "cell_type": "code",
   "execution_count": 33,
   "id": "47bf4184",
   "metadata": {
    "execution": {
     "iopub.execute_input": "2025-02-18T15:08:48.859056Z",
     "iopub.status.busy": "2025-02-18T15:08:48.858808Z",
     "iopub.status.idle": "2025-02-18T15:08:48.861914Z",
     "shell.execute_reply": "2025-02-18T15:08:48.861287Z"
    },
    "papermill": {
     "duration": 0.029824,
     "end_time": "2025-02-18T15:08:48.863237",
     "exception": false,
     "start_time": "2025-02-18T15:08:48.833413",
     "status": "completed"
    },
    "tags": []
   },
   "outputs": [],
   "source": [
    "target_names = ['apples','tomatoes', ]"
   ]
  },
  {
   "cell_type": "code",
   "execution_count": 34,
   "id": "c6338d3f",
   "metadata": {
    "execution": {
     "iopub.execute_input": "2025-02-18T15:08:48.913444Z",
     "iopub.status.busy": "2025-02-18T15:08:48.913239Z",
     "iopub.status.idle": "2025-02-18T15:08:49.361410Z",
     "shell.execute_reply": "2025-02-18T15:08:49.360505Z"
    },
    "papermill": {
     "duration": 0.474864,
     "end_time": "2025-02-18T15:08:49.362800",
     "exception": false,
     "start_time": "2025-02-18T15:08:48.887936",
     "status": "completed"
    },
    "tags": []
   },
   "outputs": [
    {
     "name": "stdout",
     "output_type": "stream",
     "text": [
      "              precision    recall  f1-score   support\n",
      "\n",
      "      apples       0.77      0.67      0.71        54\n",
      "    tomatoes       0.64      0.74      0.69        43\n",
      "\n",
      "    accuracy                           0.70        97\n",
      "   macro avg       0.70      0.71      0.70        97\n",
      "weighted avg       0.71      0.70      0.70        97\n",
      "\n"
     ]
    }
   ],
   "source": [
    "from sklearn.metrics import confusion_matrix, classification_report, ConfusionMatrixDisplay\n",
    "import matplotlib.pyplot as plt\n",
    "import seaborn as sns\n",
    "\n",
    "# Classification report\n",
    "print(classification_report(test_ds.classes, y_pred, target_names= target_names))"
   ]
  },
  {
   "cell_type": "code",
   "execution_count": 35,
   "id": "f0ec269e",
   "metadata": {
    "execution": {
     "iopub.execute_input": "2025-02-18T15:08:49.414411Z",
     "iopub.status.busy": "2025-02-18T15:08:49.413967Z",
     "iopub.status.idle": "2025-02-18T15:08:49.581337Z",
     "shell.execute_reply": "2025-02-18T15:08:49.580488Z"
    },
    "papermill": {
     "duration": 0.194006,
     "end_time": "2025-02-18T15:08:49.582767",
     "exception": false,
     "start_time": "2025-02-18T15:08:49.388761",
     "status": "completed"
    },
    "tags": []
   },
   "outputs": [
    {
     "data": {
      "image/png": "[encoded data removed]",
      "text/plain": [
       "<Figure size 800x600 with 2 Axes>"
      ]
     },
     "metadata": {},
     "output_type": "display_data"
    }
   ],
   "source": [
    "# Confusion matrix\n",
    "cm = confusion_matrix(test_ds.classes, y_pred)\n",
    "\n",
    "# Plot using Seaborn heatmap\n",
    "plt.figure(figsize=(8, 6))\n",
    "sns.heatmap(cm, annot=True, fmt='d', cmap='Blues', xticklabels=target_names, yticklabels=target_names)\n",
    "plt.xlabel('Predicted')\n",
    "plt.ylabel('True')\n",
    "plt.title('Confusion Matrix')\n",
    "plt.show()\n"
   ]
  },
  {
   "cell_type": "markdown",
   "id": "b4e83e07",
   "metadata": {
    "papermill": {
     "duration": 0.024735,
     "end_time": "2025-02-18T15:08:49.633926",
     "exception": false,
     "start_time": "2025-02-18T15:08:49.609191",
     "status": "completed"
    },
    "tags": []
   },
   "source": [
    "### Using best model for prediction"
   ]
  },
  {
   "cell_type": "code",
   "execution_count": 36,
   "id": "a6546823",
   "metadata": {
    "execution": {
     "iopub.execute_input": "2025-02-18T15:08:49.685042Z",
     "iopub.status.busy": "2025-02-18T15:08:49.684735Z",
     "iopub.status.idle": "2025-02-18T15:08:49.688156Z",
     "shell.execute_reply": "2025-02-18T15:08:49.687303Z"
    },
    "papermill": {
     "duration": 0.030621,
     "end_time": "2025-02-18T15:08:49.689551",
     "exception": false,
     "start_time": "2025-02-18T15:08:49.658930",
     "status": "completed"
    },
    "tags": []
   },
   "outputs": [],
   "source": [
    "classes = [\n",
    "    'apples',\n",
    "    'tomatoes',\n",
    "]"
   ]
  },
  {
   "cell_type": "code",
   "execution_count": 37,
   "id": "93a4326f",
   "metadata": {
    "execution": {
     "iopub.execute_input": "2025-02-18T15:08:49.740232Z",
     "iopub.status.busy": "2025-02-18T15:08:49.739999Z",
     "iopub.status.idle": "2025-02-18T15:08:50.073217Z",
     "shell.execute_reply": "2025-02-18T15:08:50.072292Z"
    },
    "papermill": {
     "duration": 0.360444,
     "end_time": "2025-02-18T15:08:50.074898",
     "exception": false,
     "start_time": "2025-02-18T15:08:49.714454",
     "status": "completed"
    },
    "tags": []
   },
   "outputs": [],
   "source": [
    "from glob import glob\n",
    "\n",
    "best_model_name = max(glob(os.path.join('/kaggle/working', \"vgg16_*.keras\")))\n",
    "best_model = keras.models.load_model(best_model_name)"
   ]
  },
  {
   "cell_type": "code",
   "execution_count": 38,
   "id": "07522603",
   "metadata": {
    "execution": {
     "iopub.execute_input": "2025-02-18T15:08:50.126493Z",
     "iopub.status.busy": "2025-02-18T15:08:50.126100Z",
     "iopub.status.idle": "2025-02-18T15:08:50.133561Z",
     "shell.execute_reply": "2025-02-18T15:08:50.132620Z"
    },
    "papermill": {
     "duration": 0.034055,
     "end_time": "2025-02-18T15:08:50.134803",
     "exception": false,
     "start_time": "2025-02-18T15:08:50.100748",
     "status": "completed"
    },
    "tags": []
   },
   "outputs": [
    {
     "data": {
      "image/jpeg": "[encoded data removed]",
      "image/png": "[encoded data removed]",
      "text/plain": [
       "<PIL.Image.Image image mode=RGB size=100x100>"
      ]
     },
     "execution_count": 38,
     "metadata": {},
     "output_type": "execute_result"
    }
   ],
   "source": [
    "image_to_test = '/kaggle/input/apples-or-tomatoes-image-classification/test/apples/img_p1_50.jpeg'\n",
    "img_to_test = load_img(image_to_test, target_size=(100, 100))\n",
    "img_to_test"
   ]
  },
  {
   "cell_type": "code",
   "execution_count": 39,
   "id": "125422b1",
   "metadata": {
    "execution": {
     "iopub.execute_input": "2025-02-18T15:08:50.187160Z",
     "iopub.status.busy": "2025-02-18T15:08:50.186935Z",
     "iopub.status.idle": "2025-02-18T15:08:51.114328Z",
     "shell.execute_reply": "2025-02-18T15:08:51.113639Z"
    },
    "papermill": {
     "duration": 0.954378,
     "end_time": "2025-02-18T15:08:51.115516",
     "exception": false,
     "start_time": "2025-02-18T15:08:50.161138",
     "status": "completed"
    },
    "tags": []
   },
   "outputs": [
    {
     "name": "stdout",
     "output_type": "stream",
     "text": [
      "\u001b[1m1/1\u001b[0m \u001b[32m━━━━━━━━━━━━━━━━━━━━\u001b[0m\u001b[37m\u001b[0m \u001b[1m1s\u001b[0m 875ms/step\n"
     ]
    },
    {
     "data": {
      "text/plain": [
       "{'apples': 1.0, 'tomatoes': 3.495545e-12}"
      ]
     },
     "execution_count": 39,
     "metadata": {},
     "output_type": "execute_result"
    }
   ],
   "source": [
    "x = np.array(img_to_test)\n",
    "X = np.array([x])\n",
    "\n",
    "prediction = best_model.predict(X)\n",
    "dict(zip(classes, prediction[0]))\n"
   ]
  },
  {
   "cell_type": "code",
   "execution_count": 40,
   "id": "f8003b7a",
   "metadata": {
    "execution": {
     "iopub.execute_input": "2025-02-18T15:08:51.168512Z",
     "iopub.status.busy": "2025-02-18T15:08:51.168284Z",
     "iopub.status.idle": "2025-02-18T15:08:51.176438Z",
     "shell.execute_reply": "2025-02-18T15:08:51.175684Z"
    },
    "papermill": {
     "duration": 0.035749,
     "end_time": "2025-02-18T15:08:51.177633",
     "exception": false,
     "start_time": "2025-02-18T15:08:51.141884",
     "status": "completed"
    },
    "tags": []
   },
   "outputs": [
    {
     "data": {
      "image/jpeg": "[encoded data removed]",
      "image/png": "[encoded data removed]",
      "text/plain": [
       "<PIL.Image.Image image mode=RGB size=100x100>"
      ]
     },
     "execution_count": 40,
     "metadata": {},
     "output_type": "execute_result"
    }
   ],
   "source": [
    "image_to_test = '/kaggle/input/apples-or-tomatoes-image-classification/test/tomatoes/img_p1_53.jpeg'\n",
    "img_to_test = load_img(image_to_test, target_size=(100, 100))\n",
    "img_to_test"
   ]
  },
  {
   "cell_type": "code",
   "execution_count": 41,
   "id": "295a3db7",
   "metadata": {
    "execution": {
     "iopub.execute_input": "2025-02-18T15:08:51.230224Z",
     "iopub.status.busy": "2025-02-18T15:08:51.230019Z",
     "iopub.status.idle": "2025-02-18T15:08:51.292154Z",
     "shell.execute_reply": "2025-02-18T15:08:51.291500Z"
    },
    "papermill": {
     "duration": 0.089624,
     "end_time": "2025-02-18T15:08:51.293342",
     "exception": false,
     "start_time": "2025-02-18T15:08:51.203718",
     "status": "completed"
    },
    "tags": []
   },
   "outputs": [
    {
     "name": "stdout",
     "output_type": "stream",
     "text": [
      "\u001b[1m1/1\u001b[0m \u001b[32m━━━━━━━━━━━━━━━━━━━━\u001b[0m\u001b[37m\u001b[0m \u001b[1m0s\u001b[0m 17ms/step\n"
     ]
    },
    {
     "data": {
      "text/plain": [
       "{'apples': 0.9999871, 'tomatoes': 1.2921869e-05}"
      ]
     },
     "execution_count": 41,
     "metadata": {},
     "output_type": "execute_result"
    }
   ],
   "source": [
    "x = np.array(img_to_test)\n",
    "X = np.array([x])\n",
    "prediction = best_model.predict(X)\n",
    "dict(zip(classes, prediction[0]))"
   ]
  }
 ],
 "metadata": {
  "kaggle": {
   "accelerator": "nvidiaTeslaT4",
   "dataSources": [
    {
     "datasetId": 2702329,
     "sourceId": 4651548,
     "sourceType": "datasetVersion"
    }
   ],
   "dockerImageVersionId": 30887,
   "isGpuEnabled": true,
   "isInternetEnabled": true,
   "language": "python",
   "sourceType": "notebook"
  },
  "kernelspec": {
   "display_name": "Python 3",
   "language": "python",
   "name": "python3"
  },
  "language_info": {
   "codemirror_mode": {
    "name": "ipython",
    "version": 3
   },
   "file_extension": ".py",
   "mimetype": "text/x-python",
   "name": "python",
   "nbconvert_exporter": "python",
   "pygments_lexer": "ipython3",
   "version": "3.10.12"
  },
  "papermill": {
   "default_parameters": {},
   "duration": 208.880207,
   "end_time": "2025-02-18T15:08:54.964914",
   "environment_variables": {},
   "exception": null,
   "input_path": "__notebook__.ipynb",
   "output_path": "__notebook__.ipynb",
   "parameters": {},
   "start_time": "2025-02-18T15:05:26.084707",
   "version": "2.6.0"
  }
 },
 "nbformat": 4,
 "nbformat_minor": 5
}
